{
  "cells": [
    {
      "cell_type": "markdown",
      "source": [
        "# LSTM Implementation for fake news detection"
      ],
      "metadata": {
        "id": "j595Ce8D4HnE"
      }
    },
    {
      "cell_type": "code",
      "source": [
        "import pandas as pd\n",
        "from keras.preprocessing.text import Tokenizer\n",
        "from keras.preprocessing.sequence import pad_sequences\n",
        "from sklearn.model_selection import train_test_split\n",
        "from keras.models import Sequential\n",
        "from keras.layers import Embedding, LSTM, Dense\n",
        "from keras.callbacks import EarlyStopping\n",
        "\n",
        "# Read the dataset\n",
        "data = pd.read_csv(\"news_data.csv\")\n",
        "\n",
        "# Drop rows with missing values\n",
        "data = data.dropna()\n",
        "\n",
        "# Combine 'Headline' and 'Body'\n",
        "data['Text'] = data['Headline'] + \" \" + data['Body']\n",
        "\n",
        "# Filter out samples with empty text\n",
        "data = data[data['Text'].apply(lambda x: len(x.split()) > 0)]\n",
        "\n",
        "# Prepare input and target variables\n",
        "X = data['Text']\n",
        "y = data['Label']\n",
        "\n",
        "# Tokenization and padding\n",
        "max_sequence_length = 1000\n",
        "tokenizer = Tokenizer()\n",
        "tokenizer.fit_on_texts(X)\n",
        "X_seq = tokenizer.texts_to_sequences(X)\n",
        "X_pad = pad_sequences(X_seq, maxlen=max_sequence_length)\n",
        "\n",
        "# Split data into training and testing sets\n",
        "X_train, X_test, y_train, y_test = train_test_split(X_pad, y, test_size=0.2, random_state=42)\n",
        "\n",
        "# Build LSTM model\n",
        "model = Sequential()\n",
        "model.add(Embedding(input_dim=len(tokenizer.word_index) + 1, output_dim=100, input_length=max_sequence_length))\n",
        "model.add(LSTM(100))\n",
        "model.add(Dense(1, activation='sigmoid'))\n",
        "\n",
        "model.compile(optimizer='adam', loss='binary_crossentropy', metrics=['accuracy'])\n",
        "\n",
        "# Define early stopping callback\n",
        "early_stopping = EarlyStopping(monitor='val_loss', patience=3, restore_best_weights=True)\n",
        "\n",
        "# Train the model with early stopping\n",
        "model.fit(X_train, y_train, validation_data=(X_test, y_test), epochs=10, batch_size=64, callbacks=[early_stopping])\n"
      ],
      "metadata": {
        "colab": {
          "base_uri": "https://localhost:8080/"
        },
        "id": "4r_Q4E-g3paz",
        "outputId": "cbe97091-bf35-4844-8bb5-3388f40ccc4c"
      },
      "execution_count": 82,
      "outputs": [
        {
          "output_type": "stream",
          "name": "stdout",
          "text": [
            "Epoch 1/10\n",
            "50/50 [==============================] - 134s 3s/step - loss: 0.3487 - accuracy: 0.8906 - val_loss: 0.1115 - val_accuracy: 0.9637\n",
            "Epoch 2/10\n",
            "50/50 [==============================] - 107s 2s/step - loss: 0.0330 - accuracy: 0.9928 - val_loss: 0.0639 - val_accuracy: 0.9837\n",
            "Epoch 3/10\n",
            "50/50 [==============================] - 107s 2s/step - loss: 0.0180 - accuracy: 0.9966 - val_loss: 0.0660 - val_accuracy: 0.9787\n",
            "Epoch 4/10\n",
            "50/50 [==============================] - 107s 2s/step - loss: 0.0052 - accuracy: 0.9994 - val_loss: 0.0754 - val_accuracy: 0.9825\n",
            "Epoch 5/10\n",
            "50/50 [==============================] - 103s 2s/step - loss: 0.0018 - accuracy: 1.0000 - val_loss: 0.0709 - val_accuracy: 0.9850\n"
          ]
        },
        {
          "output_type": "execute_result",
          "data": {
            "text/plain": [
              "<keras.src.callbacks.History at 0x7dbfe36f7d30>"
            ]
          },
          "metadata": {},
          "execution_count": 82
        }
      ]
    },
    {
      "cell_type": "markdown",
      "source": [
        "## Importing Libraries\n"
      ],
      "metadata": {
        "id": "zrGlRmJO1HNV"
      }
    },
    {
      "cell_type": "code",
      "source": [
        "from sklearn.linear_model import LogisticRegression\n",
        "from sklearn.ensemble import RandomForestClassifier, GradientBoostingClassifier\n",
        "from sklearn.svm import SVC\n",
        "from sklearn.naive_bayes import MultinomialNB\n",
        "from sklearn.metrics import accuracy_score\n"
      ],
      "metadata": {
        "id": "Z1zv2YGH1Kgr"
      },
      "execution_count": 83,
      "outputs": []
    },
    {
      "cell_type": "markdown",
      "source": [
        "## Initializing Models"
      ],
      "metadata": {
        "id": "WWpXYzPl1OZN"
      }
    },
    {
      "cell_type": "code",
      "source": [
        "logistic_regression_model = LogisticRegression(max_iter=1000)\n",
        "random_forest_model = RandomForestClassifier()\n",
        "svm_model = SVC()\n",
        "naive_bayes_model = MultinomialNB()\n",
        "gradient_boosting_model = GradientBoostingClassifier()\n"
      ],
      "metadata": {
        "id": "SJ_XaOCw1NM1"
      },
      "execution_count": 84,
      "outputs": []
    },
    {
      "cell_type": "markdown",
      "source": [
        "## Training Models"
      ],
      "metadata": {
        "id": "iUetm1xd1SnC"
      }
    },
    {
      "cell_type": "code",
      "source": [
        "random_forest_model.fit(X_train, y_train)\n",
        "svm_model.fit(X_train, y_train)\n",
        "naive_bayes_model.fit(X_train, y_train)\n",
        "gradient_boosting_model.fit(X_train, y_train)\n"
      ],
      "metadata": {
        "colab": {
          "base_uri": "https://localhost:8080/",
          "height": 75
        },
        "id": "3L4JThoU1VQ7",
        "outputId": "aa66f2bd-7ee8-4dc6-c514-1cc16450c8b8"
      },
      "execution_count": 85,
      "outputs": [
        {
          "output_type": "execute_result",
          "data": {
            "text/plain": [
              "GradientBoostingClassifier()"
            ],
            "text/html": [
              "<style>#sk-container-id-2 {color: black;background-color: white;}#sk-container-id-2 pre{padding: 0;}#sk-container-id-2 div.sk-toggleable {background-color: white;}#sk-container-id-2 label.sk-toggleable__label {cursor: pointer;display: block;width: 100%;margin-bottom: 0;padding: 0.3em;box-sizing: border-box;text-align: center;}#sk-container-id-2 label.sk-toggleable__label-arrow:before {content: \"▸\";float: left;margin-right: 0.25em;color: #696969;}#sk-container-id-2 label.sk-toggleable__label-arrow:hover:before {color: black;}#sk-container-id-2 div.sk-estimator:hover label.sk-toggleable__label-arrow:before {color: black;}#sk-container-id-2 div.sk-toggleable__content {max-height: 0;max-width: 0;overflow: hidden;text-align: left;background-color: #f0f8ff;}#sk-container-id-2 div.sk-toggleable__content pre {margin: 0.2em;color: black;border-radius: 0.25em;background-color: #f0f8ff;}#sk-container-id-2 input.sk-toggleable__control:checked~div.sk-toggleable__content {max-height: 200px;max-width: 100%;overflow: auto;}#sk-container-id-2 input.sk-toggleable__control:checked~label.sk-toggleable__label-arrow:before {content: \"▾\";}#sk-container-id-2 div.sk-estimator input.sk-toggleable__control:checked~label.sk-toggleable__label {background-color: #d4ebff;}#sk-container-id-2 div.sk-label input.sk-toggleable__control:checked~label.sk-toggleable__label {background-color: #d4ebff;}#sk-container-id-2 input.sk-hidden--visually {border: 0;clip: rect(1px 1px 1px 1px);clip: rect(1px, 1px, 1px, 1px);height: 1px;margin: -1px;overflow: hidden;padding: 0;position: absolute;width: 1px;}#sk-container-id-2 div.sk-estimator {font-family: monospace;background-color: #f0f8ff;border: 1px dotted black;border-radius: 0.25em;box-sizing: border-box;margin-bottom: 0.5em;}#sk-container-id-2 div.sk-estimator:hover {background-color: #d4ebff;}#sk-container-id-2 div.sk-parallel-item::after {content: \"\";width: 100%;border-bottom: 1px solid gray;flex-grow: 1;}#sk-container-id-2 div.sk-label:hover label.sk-toggleable__label {background-color: #d4ebff;}#sk-container-id-2 div.sk-serial::before {content: \"\";position: absolute;border-left: 1px solid gray;box-sizing: border-box;top: 0;bottom: 0;left: 50%;z-index: 0;}#sk-container-id-2 div.sk-serial {display: flex;flex-direction: column;align-items: center;background-color: white;padding-right: 0.2em;padding-left: 0.2em;position: relative;}#sk-container-id-2 div.sk-item {position: relative;z-index: 1;}#sk-container-id-2 div.sk-parallel {display: flex;align-items: stretch;justify-content: center;background-color: white;position: relative;}#sk-container-id-2 div.sk-item::before, #sk-container-id-2 div.sk-parallel-item::before {content: \"\";position: absolute;border-left: 1px solid gray;box-sizing: border-box;top: 0;bottom: 0;left: 50%;z-index: -1;}#sk-container-id-2 div.sk-parallel-item {display: flex;flex-direction: column;z-index: 1;position: relative;background-color: white;}#sk-container-id-2 div.sk-parallel-item:first-child::after {align-self: flex-end;width: 50%;}#sk-container-id-2 div.sk-parallel-item:last-child::after {align-self: flex-start;width: 50%;}#sk-container-id-2 div.sk-parallel-item:only-child::after {width: 0;}#sk-container-id-2 div.sk-dashed-wrapped {border: 1px dashed gray;margin: 0 0.4em 0.5em 0.4em;box-sizing: border-box;padding-bottom: 0.4em;background-color: white;}#sk-container-id-2 div.sk-label label {font-family: monospace;font-weight: bold;display: inline-block;line-height: 1.2em;}#sk-container-id-2 div.sk-label-container {text-align: center;}#sk-container-id-2 div.sk-container {/* jupyter's `normalize.less` sets `[hidden] { display: none; }` but bootstrap.min.css set `[hidden] { display: none !important; }` so we also need the `!important` here to be able to override the default hidden behavior on the sphinx rendered scikit-learn.org. See: https://github.com/scikit-learn/scikit-learn/issues/21755 */display: inline-block !important;position: relative;}#sk-container-id-2 div.sk-text-repr-fallback {display: none;}</style><div id=\"sk-container-id-2\" class=\"sk-top-container\"><div class=\"sk-text-repr-fallback\"><pre>GradientBoostingClassifier()</pre><b>In a Jupyter environment, please rerun this cell to show the HTML representation or trust the notebook. <br />On GitHub, the HTML representation is unable to render, please try loading this page with nbviewer.org.</b></div><div class=\"sk-container\" hidden><div class=\"sk-item\"><div class=\"sk-estimator sk-toggleable\"><input class=\"sk-toggleable__control sk-hidden--visually\" id=\"sk-estimator-id-2\" type=\"checkbox\" checked><label for=\"sk-estimator-id-2\" class=\"sk-toggleable__label sk-toggleable__label-arrow\">GradientBoostingClassifier</label><div class=\"sk-toggleable__content\"><pre>GradientBoostingClassifier()</pre></div></div></div></div></div>"
            ]
          },
          "metadata": {},
          "execution_count": 85
        }
      ]
    },
    {
      "cell_type": "markdown",
      "source": [
        "## Evaluating Models"
      ],
      "metadata": {
        "id": "iAXePP7n1X2n"
      }
    },
    {
      "cell_type": "code",
      "source": [
        "\n",
        "random_forest_accuracy = accuracy_score(y_test, random_forest_model.predict(X_test))\n",
        "svm_accuracy = accuracy_score(y_test, svm_model.predict(X_test))\n",
        "naive_bayes_accuracy = accuracy_score(y_test, naive_bayes_model.predict(X_test))\n",
        "gradient_boosting_accuracy = accuracy_score(y_test, gradient_boosting_model.predict(X_test))\n",
        "# Evaluate the model\n",
        "loss, accuracy = model.evaluate(X_test, y_test)"
      ],
      "metadata": {
        "colab": {
          "base_uri": "https://localhost:8080/"
        },
        "id": "1sZ8AnAL1aoA",
        "outputId": "1ec810b4-c7b0-46f0-9a16-8d7b0b365767"
      },
      "execution_count": 91,
      "outputs": [
        {
          "output_type": "stream",
          "name": "stdout",
          "text": [
            "25/25 [==============================] - 5s 207ms/step - loss: 0.0639 - accuracy: 0.9837\n"
          ]
        }
      ]
    },
    {
      "cell_type": "markdown",
      "source": [
        "## Comparitive Study"
      ],
      "metadata": {
        "id": "Io-4v7sl1cqI"
      }
    },
    {
      "cell_type": "code",
      "source": [
        "print(\"LSTM Model Accuracy:\", accuracy)\n",
        "print(\"Random Forest Accuracy:\", random_forest_accuracy)\n",
        "print(\"SVM Accuracy:\", svm_accuracy)\n",
        "print(\"Naive Bayes Accuracy:\", naive_bayes_accuracy)\n",
        "print(\"Gradient Boosting Accuracy:\", gradient_boosting_accuracy)\n"
      ],
      "metadata": {
        "colab": {
          "base_uri": "https://localhost:8080/"
        },
        "id": "2ZyZ4jHa1gvw",
        "outputId": "34407530-9b78-4e20-9c1b-3b55f09b9b86"
      },
      "execution_count": 92,
      "outputs": [
        {
          "output_type": "stream",
          "name": "stdout",
          "text": [
            "LSTM Model Accuracy: 0.9837092757225037\n",
            "Random Forest Accuracy: 0.9110275689223057\n",
            "SVM Accuracy: 0.7481203007518797\n",
            "Naive Bayes Accuracy: 0.6265664160401002\n",
            "Gradient Boosting Accuracy: 0.9010025062656641\n"
          ]
        }
      ]
    }
  ],
  "metadata": {
    "colab": {
      "provenance": []
    },
    "kernelspec": {
      "display_name": "Python 3",
      "name": "python3"
    },
    "language_info": {
      "name": "python"
    }
  },
  "nbformat": 4,
  "nbformat_minor": 0
}